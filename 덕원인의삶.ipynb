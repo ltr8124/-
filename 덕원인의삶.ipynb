{
  "nbformat": 4,
  "nbformat_minor": 0,
  "metadata": {
    "colab": {
      "name": "덕원인의삶.ipynb",
      "provenance": [],
      "collapsed_sections": [],
      "authorship_tag": "ABX9TyOZ5+B9TtjcAHHUD3GR+TiU",
      "include_colab_link": true
    },
    "kernelspec": {
      "name": "python3",
      "display_name": "Python 3"
    },
    "language_info": {
      "name": "python"
    }
  },
  "cells": [
    {
      "cell_type": "markdown",
      "metadata": {
        "id": "view-in-github",
        "colab_type": "text"
      },
      "source": [
        "<a href=\"https://colab.research.google.com/github/ltr8124/-/blob/main/%EB%8D%95%EC%9B%90%EC%9D%B8%EC%9D%98%EC%82%B6.ipynb\" target=\"_parent\"><img src=\"https://colab.research.google.com/assets/colab-badge.svg\" alt=\"Open In Colab\"/></a>"
      ]
    },
    {
      "cell_type": "code",
      "metadata": {
        "id": "pvNbj-80qeNj",
        "colab": {
          "base_uri": "https://localhost:8080/"
        },
        "outputId": "5e9be469-d2c2-403e-d06c-985bdd211052"
      },
      "source": [
        "print(\"Hello World!\")"
      ],
      "execution_count": 9,
      "outputs": [
        {
          "output_type": "stream",
          "name": "stdout",
          "text": [
            "Hello World!\n"
          ]
        }
      ]
    },
    {
      "cell_type": "code",
      "metadata": {
        "colab": {
          "base_uri": "https://localhost:8080/"
        },
        "id": "i4kDohnXsRIC",
        "outputId": "3ac94eca-97d5-4746-db59-164ff8750b9f"
      },
      "source": [
        "print(\"덕원고\")"
      ],
      "execution_count": 10,
      "outputs": [
        {
          "output_type": "stream",
          "name": "stdout",
          "text": [
            "덕원고\n"
          ]
        }
      ]
    },
    {
      "cell_type": "code",
      "metadata": {
        "id": "OWLpJjUzsWDP"
      },
      "source": [
        "text = \"이태림\""
      ],
      "execution_count": 19,
      "outputs": []
    },
    {
      "cell_type": "code",
      "metadata": {
        "colab": {
          "base_uri": "https://localhost:8080/"
        },
        "id": "fkpb85ROuzsU",
        "outputId": "b9c84616-8a0a-4856-d75f-5e391f46c28b"
      },
      "source": [
        "print(3+5)"
      ],
      "execution_count": 23,
      "outputs": [
        {
          "output_type": "stream",
          "name": "stdout",
          "text": [
            "8\n"
          ]
        }
      ]
    },
    {
      "cell_type": "code",
      "metadata": {
        "id": "aSo3sZBvs5u2"
      },
      "source": [
        "text = \"김도연\""
      ],
      "execution_count": 20,
      "outputs": []
    },
    {
      "cell_type": "code",
      "metadata": {
        "colab": {
          "base_uri": "https://localhost:8080/"
        },
        "id": "nKE4k4JutS67",
        "outputId": "4ff6c22a-97c8-4fae-d98c-0839e78e3ac0"
      },
      "source": [
        "print(text)"
      ],
      "execution_count": 24,
      "outputs": [
        {
          "output_type": "stream",
          "name": "stdout",
          "text": [
            "김도연\n"
          ]
        }
      ]
    },
    {
      "cell_type": "markdown",
      "metadata": {
        "id": "Lg6a-k-DvcWr"
      },
      "source": [
        "#입력문"
      ]
    },
    {
      "cell_type": "markdown",
      "metadata": {
        "id": "MxLYTbHeuPhV"
      },
      "source": [
        "#######덕원고 11월 6일"
      ]
    },
    {
      "cell_type": "code",
      "metadata": {
        "colab": {
          "base_uri": "https://localhost:8080/"
        },
        "id": "9pFc4d3ruvOO",
        "outputId": "1652bf41-9cf2-4edc-abbc-946838058959"
      },
      "source": [
        "#input\n",
        "#배고프다\n",
        "school = input(\"당신의 학교 이름을 입력하세요:\")\n",
        "print(\"당신의 학교 이름은 \" + school + \" 입니다\")"
      ],
      "execution_count": 39,
      "outputs": [
        {
          "output_type": "stream",
          "name": "stdout",
          "text": [
            "당신의 학교 이름을 입력하세요:덕원고등학교\n",
            "당신의 학교 이름은 덕원고등학교 입니다\n"
          ]
        }
      ]
    },
    {
      "cell_type": "code",
      "metadata": {
        "colab": {
          "base_uri": "https://localhost:8080/"
        },
        "id": "iSs9AxGK1WEF",
        "outputId": "8f8c3996-4a17-421a-fff3-55df7d74b16c"
      },
      "source": [
        "a = 101\n",
        "b = 99\n",
        "c = 120\n",
        "if a>b:\n",
        "  if c>a:\n",
        "    print(\"최대 IQ: \", c)\n",
        "  else:\n",
        "    print(\"최대 IQ: \", a)\n",
        "else:\n",
        "  if c>b:\n",
        "    print(\"최대 IQ: \", c)\n",
        "  else:\n",
        "    print(\"최대 IQ: \", b)          "
      ],
      "execution_count": 47,
      "outputs": [
        {
          "output_type": "stream",
          "name": "stdout",
          "text": [
            "최대 IQ:  120\n"
          ]
        }
      ]
    },
    {
      "cell_type": "code",
      "metadata": {
        "colab": {
          "base_uri": "https://localhost:8080/"
        },
        "id": "Jcmysces4WNW",
        "outputId": "170c29b5-61f9-4e75-9c76-ea8ec6852dac"
      },
      "source": [
        "target_array = [2,1,5,3]\n",
        "max = target_array[0]\n",
        "#서수는 0부터\n",
        "#처음 2랑 비교해서 2보다 큰경우 해당원소로 갱신(if문의 내용참고)\n",
        "#아닌경우 그대로 유지\n",
        "for element in target_array:\n",
        "  if element > max:\n",
        "    max = element\n",
        "    print(\"최대값: \", max)"
      ],
      "execution_count": 54,
      "outputs": [
        {
          "output_type": "stream",
          "name": "stdout",
          "text": [
            "최대값:  5\n"
          ]
        }
      ]
    },
    {
      "cell_type": "code",
      "metadata": {
        "colab": {
          "base_uri": "https://localhost:8080/"
        },
        "id": "wM1yk9oo8ljn",
        "outputId": "1b9c7c96-27d2-4b53-f0f5-ba77d3b6ae10"
      },
      "source": [
        "#python turtle 그래픽\n",
        "!pip3 install ColabTurtle"
      ],
      "execution_count": 57,
      "outputs": [
        {
          "output_type": "stream",
          "name": "stdout",
          "text": [
            "Requirement already satisfied: ColabTurtle in /usr/local/lib/python3.7/dist-packages (2.1.0)\n"
          ]
        }
      ]
    },
    {
      "cell_type": "code",
      "metadata": {
        "colab": {
          "base_uri": "https://localhost:8080/",
          "height": 520
        },
        "id": "uMWYqWOXJeu5",
        "outputId": "3cac2029-8b96-4879-f63e-292adde19634"
      },
      "source": [
        "from ColabTurtle.Turtle import *\n",
        "initializeTurtle()\n",
        "#정삼각형 그리기(반복문을 사용하여)\n",
        "\n",
        "#right(30)\n",
        "#forward(100)\n",
        "#for i in range(2):\n",
        "#  right(120)\n",
        "#  forward(100)\n",
        "\n",
        "#for i in range(3):\n",
        "#  forward(100)\n",
        "#  left(120)\n",
        "\n",
        "#정오각형과 별\n",
        "for i in range(5):\n",
        "  speed(5)\n",
        "  color('red')\n",
        "  forward(100)\n",
        "  color('yellow')\n",
        "  forward(100)\n",
        "  left(144)\n",
        "#정오각형은 left 72 별은 left 144 각도바꾸면됨\n",
        "\n"
      ],
      "execution_count": 102,
      "outputs": [
        {
          "output_type": "display_data",
          "data": {
            "text/html": [
              "\n",
              "      <svg width=\"800\" height=\"500\">\n",
              "        <rect width=\"100%\" height=\"100%\" fill=\"black\"/>\n",
              "        <line x1=\"400\" y1=\"250\" x2=\"400.0\" y2=\"150.0\" stroke-linecap=\"round\" style=\"stroke:red;stroke-width:4\"/><line x1=\"400.0\" y1=\"150.0\" x2=\"400.0\" y2=\"50.0\" stroke-linecap=\"round\" style=\"stroke:yellow;stroke-width:4\"/><line x1=\"400.0\" y1=\"50.0\" x2=\"341.221\" y2=\"130.902\" stroke-linecap=\"round\" style=\"stroke:red;stroke-width:4\"/><line x1=\"341.221\" y1=\"130.902\" x2=\"282.442\" y2=\"211.804\" stroke-linecap=\"round\" style=\"stroke:yellow;stroke-width:4\"/><line x1=\"282.442\" y1=\"211.804\" x2=\"377.548\" y2=\"180.902\" stroke-linecap=\"round\" style=\"stroke:red;stroke-width:4\"/><line x1=\"377.548\" y1=\"180.902\" x2=\"472.654\" y2=\"150.0\" stroke-linecap=\"round\" style=\"stroke:yellow;stroke-width:4\"/><line x1=\"472.654\" y1=\"150.0\" x2=\"377.548\" y2=\"119.098\" stroke-linecap=\"round\" style=\"stroke:red;stroke-width:4\"/><line x1=\"377.548\" y1=\"119.098\" x2=\"282.442\" y2=\"88.196\" stroke-linecap=\"round\" style=\"stroke:yellow;stroke-width:4\"/><line x1=\"282.442\" y1=\"88.196\" x2=\"341.221\" y2=\"169.098\" stroke-linecap=\"round\" style=\"stroke:red;stroke-width:4\"/><line x1=\"341.221\" y1=\"169.098\" x2=\"400.0\" y2=\"250.0\" stroke-linecap=\"round\" style=\"stroke:yellow;stroke-width:4\"/>\n",
              "        <g visibility=visible transform=\"rotate(360,400.0,250.0) translate(382.0, 232.0)\">\n",
              "<path style=\" stroke:none;fill-rule:evenodd;fill:yellow;fill-opacity:1;\" d=\"M 18.214844 0.632812 C 16.109375 1.800781 15.011719 4.074219 15.074219 7.132812 L 15.085938 7.652344 L 14.785156 7.496094 C 13.476562 6.824219 11.957031 6.671875 10.40625 7.066406 C 8.46875 7.550781 6.515625 9.15625 4.394531 11.992188 C 3.0625 13.777344 2.679688 14.636719 3.042969 15.027344 L 3.15625 15.152344 L 3.519531 15.152344 C 4.238281 15.152344 4.828125 14.886719 8.1875 13.039062 C 9.386719 12.378906 10.371094 11.839844 10.378906 11.839844 C 10.386719 11.839844 10.355469 11.929688 10.304688 12.035156 C 9.832031 13.09375 9.257812 14.820312 8.96875 16.078125 C 7.914062 20.652344 8.617188 24.53125 11.070312 27.660156 C 11.351562 28.015625 11.363281 27.914062 10.972656 28.382812 C 8.925781 30.84375 7.945312 33.28125 8.238281 35.1875 C 8.289062 35.527344 8.28125 35.523438 8.917969 35.523438 C 10.941406 35.523438 13.074219 34.207031 15.136719 31.6875 C 15.359375 31.417969 15.328125 31.425781 15.5625 31.574219 C 16.292969 32.042969 18.023438 32.964844 18.175781 32.964844 C 18.335938 32.964844 19.941406 32.210938 20.828125 31.71875 C 20.996094 31.625 21.136719 31.554688 21.136719 31.558594 C 21.203125 31.664062 21.898438 32.414062 22.222656 32.730469 C 23.835938 34.300781 25.5625 35.132812 27.582031 35.300781 C 27.90625 35.328125 27.9375 35.308594 28.007812 34.984375 C 28.382812 33.242188 27.625 30.925781 25.863281 28.425781 L 25.542969 27.96875 L 25.699219 27.785156 C 28.945312 23.960938 29.132812 18.699219 26.257812 11.96875 L 26.207031 11.84375 L 27.945312 12.703125 C 31.53125 14.476562 32.316406 14.800781 33.03125 14.800781 C 33.976562 14.800781 33.78125 13.9375 32.472656 12.292969 C 28.519531 7.355469 25.394531 5.925781 21.921875 7.472656 L 21.558594 7.636719 L 21.578125 7.542969 C 21.699219 6.992188 21.761719 5.742188 21.699219 5.164062 C 21.496094 3.296875 20.664062 1.964844 19.003906 0.855469 C 18.480469 0.503906 18.457031 0.5 18.214844 0.632812\"/>\n",
              "</g>\n",
              "      </svg>\n",
              "    "
            ],
            "text/plain": [
              "<IPython.core.display.HTML object>"
            ]
          },
          "metadata": {}
        }
      ]
    }
  ]
}